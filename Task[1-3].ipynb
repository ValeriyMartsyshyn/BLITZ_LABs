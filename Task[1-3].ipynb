{
 "cells": [
  {
   "cell_type": "code",
   "execution_count": 3,
   "source": [
    "#task_1\n",
    "res1 = 355/113.0 * (1-0.0003/3522)\n",
    "res2 = 22/17 +37/47 +88/83\n",
    "res3 = (553.0/312)**2\n",
    "print (float(res1)) \n",
    "print (float(res2)) \n",
    "print (float(res3))\n",
    "\n",
    "#task_2\n",
    "from fractions import Fraction\n",
    "s = Fraction.from_float(0.625)\n",
    "print (3, s)\n",
    "\n",
    "#task_3\n",
    "c_deg = 18.5\n",
    "f_deg = 65.3\n",
    "res = c_deg = f_deg\n",
    "print(float(res))"
   ],
   "outputs": [
    {
     "output_type": "stream",
     "name": "stdout",
     "text": [
      "3.14159265275663\n",
      "3.1415926534674368\n",
      "3.141529010519395\n",
      "3 5/8\n",
      "65.3\n"
     ]
    }
   ],
   "metadata": {}
  }
 ],
 "metadata": {
  "orig_nbformat": 4,
  "language_info": {
   "name": "python",
   "version": "3.8.8",
   "mimetype": "text/x-python",
   "codemirror_mode": {
    "name": "ipython",
    "version": 3
   },
   "pygments_lexer": "ipython3",
   "nbconvert_exporter": "python",
   "file_extension": ".py"
  },
  "kernelspec": {
   "name": "python3",
   "display_name": "Python 3.8.8 64-bit ('base': conda)"
  },
  "interpreter": {
   "hash": "ac4629ceac5e93efb9965690f96198b41239980aadf79fb54140fb59f20e3825"
  }
 },
 "nbformat": 4,
 "nbformat_minor": 2
}
